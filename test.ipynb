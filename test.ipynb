{
 "cells": [
  {
   "cell_type": "code",
   "execution_count": 102,
   "metadata": {},
   "outputs": [
    {
     "data": {
      "text/plain": [
       "True"
      ]
     },
     "execution_count": 102,
     "metadata": {},
     "output_type": "execute_result"
    }
   ],
   "source": [
    "# API 키를 환경변수로 관리하기 위한 설정 파일\n",
    "from dotenv import load_dotenv\n",
    "\n",
    "# API 키 정보 로드\n",
    "load_dotenv()"
   ]
  },
  {
   "cell_type": "code",
   "execution_count": 103,
   "metadata": {},
   "outputs": [
    {
     "name": "stdout",
     "output_type": "stream",
     "text": [
      "LangSmith 추적을 시작합니다.\n",
      "[프로젝트명]\n",
      "CH12-RAG\n"
     ]
    }
   ],
   "source": [
    "# LangSmith 추적을 설정합니다. https://smith.langchain.com\n",
    "# !pip install -qU langchain-teddynote\n",
    "from langchain_teddynote import logging\n",
    "\n",
    "# 프로젝트 이름을 입력합니다.\n",
    "logging.langsmith(\"CH12-RAG\")"
   ]
  },
  {
   "cell_type": "code",
   "execution_count": 104,
   "metadata": {},
   "outputs": [],
   "source": [
    "from langchain_text_splitters import RecursiveCharacterTextSplitter\n",
    "from langchain_community.document_loaders import PyMuPDFLoader,PDFPlumberLoader\n",
    "from langchain_community.vectorstores import FAISS\n",
    "from langchain_core.output_parsers import StrOutputParser\n",
    "from langchain_core.runnables import RunnablePassthrough\n",
    "from langchain_core.prompts import PromptTemplate\n",
    "from langchain_openai import ChatOpenAI, OpenAIEmbeddings"
   ]
  },
  {
   "cell_type": "code",
   "execution_count": 105,
   "metadata": {},
   "outputs": [],
   "source": [
    "# 단계 1: 문서 로드(Load Documents)\n",
    "loader = PyMuPDFLoader(\"./Afterschool_Adventure_Time-20-29.pdf\")\n",
    "docs = loader.load()"
   ]
  },
  {
   "cell_type": "code",
   "execution_count": 106,
   "metadata": {},
   "outputs": [
    {
     "data": {
      "text/plain": [
       "{'source': './Afterschool_Adventure_Time-20-29.pdf',\n",
       " 'file_path': './Afterschool_Adventure_Time-20-29.pdf',\n",
       " 'page': 0,\n",
       " 'total_pages': 10,\n",
       " 'format': 'PDF 1.4',\n",
       " 'title': '',\n",
       " 'author': '',\n",
       " 'subject': '',\n",
       " 'keywords': '',\n",
       " 'creator': '',\n",
       " 'producer': 'iLovePDF',\n",
       " 'creationDate': '',\n",
       " 'modDate': 'D:20240714044133Z',\n",
       " 'trapped': ''}"
      ]
     },
     "execution_count": 106,
     "metadata": {},
     "output_type": "execute_result"
    }
   ],
   "source": [
    "docs[0].metadata"
   ]
  },
  {
   "cell_type": "code",
   "execution_count": 107,
   "metadata": {},
   "outputs": [],
   "source": [
    "# 단계 2: 문서 분할(Split Documents)\n",
    "text_splitter = RecursiveCharacterTextSplitter(chunk_size=300, chunk_overlap=30)\n",
    "split_documents = text_splitter.split_documents(docs)"
   ]
  },
  {
   "cell_type": "code",
   "execution_count": 108,
   "metadata": {},
   "outputs": [],
   "source": [
    "# 단계 3: 임베딩(Embedding) 생성\n",
    "embeddings = OpenAIEmbeddings()"
   ]
  },
  {
   "cell_type": "code",
   "execution_count": 109,
   "metadata": {},
   "outputs": [],
   "source": [
    "# 단계 4: DB 생성(Create DB) 및 저장\n",
    "# 벡터스토어를 생성합니다. (메모리에 저장하는것이고 아직 디스크에 저장하는 것은 아님)\n",
    "vectorstore = FAISS.from_documents(documents=split_documents, embedding=embeddings)"
   ]
  },
  {
   "cell_type": "code",
   "execution_count": 110,
   "metadata": {},
   "outputs": [],
   "source": [
    "# 단계 5: 검색기(Retriever) 생성\n",
    "# 문서에 포함되어 있는 정보를 검색하고 생성합니다.\n",
    "retriever = vectorstore.as_retriever()"
   ]
  },
  {
   "cell_type": "code",
   "execution_count": 111,
   "metadata": {},
   "outputs": [],
   "source": [
    "# retriever.invoke(\"시나리오 개요 작성해줘\")"
   ]
  },
  {
   "cell_type": "code",
   "execution_count": 112,
   "metadata": {},
   "outputs": [],
   "source": [
    "# 단계 6: 프롬프트 생성(Create Prompt)\n",
    "# 프롬프트를 생성합니다.\n",
    "prompt = PromptTemplate.from_template(\n",
    "    \"\"\"당신은 30년 차 TRPG 게임 사회자입니다.\n",
    "현재 \"방과후 탐사활동기록\" 시나리오의 사회자를 맡게 되었습니다.\n",
    "Player들의 선택지를 참고하여 시나리오를 진행하려고 합니다.\n",
    "다음과 같은 검색된 context를 사용하여 시나리오를 자연스럽게 만들어주세요.\n",
    "답변은 한글로 작성하세요.\n",
    "\n",
    "다음 사항을 준수하세요:\n",
    "- 답변은 상황에 대한 시나리오 진행과 3가지 선택지 제공으로 구성됩니다.\n",
    "- 답변 형식은 [예제]와 똑같이 작성해주세요.\n",
    "- 시나리오 진행 도중 주사위를 굴려야 하는 상황이 온다면 플레이어에게 주사위를 굴리라고 안내해주고 주사위 입력값을 기다립니다.\n",
    "- 주사위 입력값이 들어오면 플레이어의 특성값을 확인하여 결과를 알려주고 시나리오를 진행합니다.\n",
    "\n",
    "# 예제:\n",
    "    여러분은 조심스럽게 2층으로 올라가기로 합니다. 계단을 오르면서 소리가 점점 더 크게 들려옵니다. 2층에 도착하자, 소리는 복도 끝에 있는 문 뒤에서 나는 것 같습니다. 문은 살짝 열려있고, 안쪽에서 희미한 빛이 새어나오고 있습니다.\n",
    "    이제 여러분은 다음과 같은 선택지를 선택할 수 있습니다.\n",
    "\n",
    "    **선택지:**\n",
    "    1. 문을 열어본다.\n",
    "    2. 문을 열지 않고 돌아간다.\n",
    "    3. 다른 방향으로 이동한다.\n",
    "\n",
    "#Question: \n",
    "{question} \n",
    "\n",
    "#Context: \n",
    "{context} \n",
    "\n",
    "#Answer:\"\"\"\n",
    ")"
   ]
  },
  {
   "cell_type": "code",
   "execution_count": 113,
   "metadata": {},
   "outputs": [],
   "source": [
    "# 단계 7: 언어모델(LLM) 생성\n",
    "# 모델(LLM) 을 생성합니다.\n",
    "llm = ChatOpenAI(model_name=\"gpt-4o\", temperature=0)"
   ]
  },
  {
   "cell_type": "code",
   "execution_count": 114,
   "metadata": {},
   "outputs": [],
   "source": [
    "strength = [10, 20, 30, 40]\n",
    "health = [100, 200, 300, 400]\n",
    "size = [1, 2, 3, 4]\n",
    "agility = [5, 10, 15, 20]\n",
    "look = [6, 12, 18, 24]\n",
    "education = [2, 4, 6, 8]\n",
    "iq = [110, 120, 130, 140]\n",
    "mental = [1, 2, 3, 4]"
   ]
  },
  {
   "cell_type": "code",
   "execution_count": 115,
   "metadata": {},
   "outputs": [],
   "source": [
    "# 단계 8: 체인(Chain) 생성\n",
    "chain = (\n",
    "    {\"context\": retriever, \"question\": RunnablePassthrough()}\n",
    "    | prompt\n",
    "    | llm\n",
    "    | StrOutputParser()\n",
    ")"
   ]
  },
  {
   "cell_type": "code",
   "execution_count": 118,
   "metadata": {},
   "outputs": [
    {
     "name": "stdout",
     "output_type": "stream",
     "text": [
      "여러분은 교문 앞의 사람들을 무시하고 학교 안으로 들어가기로 합니다. 학교 안으로 들어가자, 운동장 구석의 나무 뒤 풀 숲이 기묘하게 흔들리는 소리가 들립니다. 그쪽으로 다가가면, 검은색 무언가가 빠르게 튀어나와 샤샤샥 학교 뒤로 뛰어가는 모습을 보게 됩니다. \n",
      "\n",
      "이제 여러분은 다음과 같은 선택지를 선택할 수 있습니다.\n",
      "\n",
      "**선택지:**\n",
      "1. 검은색 무언가를 따라간다.\n",
      "2. 학교 안으로 더 깊이 들어간다.\n",
      "3. 운동장을 둘러본다.\n"
     ]
    }
   ],
   "source": [
    "# 체인 실행(Run Chain)\n",
    "# 문서에 대한 질의를 입력하고, 답변을 출력합니다.\n",
    "content = \"2. 그들을 무시하고 학교 안으로 들어간다.\"\n",
    "response = chain.invoke(content)\n",
    "print(response)"
   ]
  },
  {
   "cell_type": "code",
   "execution_count": null,
   "metadata": {},
   "outputs": [],
   "source": []
  }
 ],
 "metadata": {
  "kernelspec": {
   "display_name": "watson",
   "language": "python",
   "name": "python3"
  },
  "language_info": {
   "codemirror_mode": {
    "name": "ipython",
    "version": 3
   },
   "file_extension": ".py",
   "mimetype": "text/x-python",
   "name": "python",
   "nbconvert_exporter": "python",
   "pygments_lexer": "ipython3",
   "version": "3.11.9"
  }
 },
 "nbformat": 4,
 "nbformat_minor": 2
}
