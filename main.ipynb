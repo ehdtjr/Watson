{
 "cells": [
  {
   "cell_type": "code",
   "execution_count": 8,
   "metadata": {},
   "outputs": [
    {
     "name": "stdout",
     "output_type": "stream",
     "text": [
      "LangSmith 추적을 시작합니다.\n",
      "[프로젝트명]\n",
      "watson\n"
     ]
    }
   ],
   "source": [
    "# !pip install -qU langchain-teddynote\n",
    "from langchain_teddynote import logging\n",
    "\n",
    "# 프로젝트 이름을 입력합니다.\n",
    "logging.langsmith(\"watson\")"
   ]
  },
  {
   "cell_type": "code",
   "execution_count": 7,
   "metadata": {},
   "outputs": [],
   "source": [
    "job=[\"형사\",\"형사\",\"교수\",\"탐정\"]\n",
    "\n",
    "strengt=[50,60,40,30]\n",
    "health=[50,70,60,40]\n",
    "size=[70,60,50,40]\n",
    "agility=[80,70,60,50]\n",
    "look=[40,50,60,70]\n",
    "education=[60,70,80,90]\n",
    "iq=[50,60,70,80]\n",
    "mental=[60,70,80,90]"
   ]
  },
  {
   "cell_type": "code",
   "execution_count": 6,
   "metadata": {},
   "outputs": [
    {
     "name": "stdout",
     "output_type": "stream",
     "text": [
      "Question: 대한민국의 수도는?\n",
      "Answer: 대한민국의 수도는 서울입니다.\n"
     ]
    }
   ],
   "source": [
    "from langchain_openai import ChatOpenAI\n",
    "\n",
    "question = \"살인사건이 발생했어요. 플레이어들은 어떻게 해야 할까요?\"\n",
    "# 프롬프트 템플릿을 정의합니다.\n",
    "prompt_template = f\"\"\"\n",
    "You are the host to help you progress the TRPG game. The scenario is a call from Ktulu. Help the story flow naturally to match each player's job and ability.\n",
    "The information below is the occupation and characteristics of each player.\n",
    "\n",
    "characteristics\n",
    "Player 1: {job[0]}, Strength: {strengt[0]}, Health: {health[0]}, Size: {size[0]}, Agility: {agility[0]}, Look: {look[0]}, Education: {education[0]}, IQ: {iq[0]}, Mental: {mental[0]}\n",
    "Player 2: {job[1]}, Strength: {strengt[1]}, Health: {health[1]}, Size: {size[1]}, Agility: {agility[1]}, Look: {look[1]}, Education: {education[1]}, IQ: {iq[1]}, Mental: {mental[1]}\n",
    "Player 3: {job[2]}, Strength: {strengt[2]}, Health: {health[2]}, Size: {size[2]}, Agility: {agility[2]}, Look: {look[2]}, Education: {education[2]}, IQ: {iq[2]}, Mental: {mental[2]}\n",
    "Player 4: {job[3]}, Strength: {strengt[3]}, Health: {health[3]}, Size: {size[3]}, Agility: {agility[3]}, Look: {look[3]}, Education: {education[3]}, IQ: {iq[3]}, Mental: {mental[3]}\n",
    "\n",
    "Question: {question}\n",
    "Answer:\n",
    "\"\"\"\n",
    "\n",
    "# OpenAI API 클라이언트를 초기화합니다.\n",
    "llm = ChatOpenAI(model_name=\"gpt-4o\", temperature=0)\n",
    "\n",
    "# 예제 질문\n",
    "answer = response = llm.invoke(prompt_template)\n",
    "\n",
    "print(\"Question:\", question)\n",
    "print(\"Answer:\", answer.content)\n"
   ]
  },
  {
   "cell_type": "code",
   "execution_count": 12,
   "metadata": {},
   "outputs": [
    {
     "name": "stdout",
     "output_type": "stream",
     "text": [
      "\"사랑\"은 정말로 깊고 복잡한 개념이에요. 단순히 한 가지로 정의하기는 어렵지만, 일반적으로 사랑은 강한 애정이나 깊은 애정을 의미하는 감정으로 이해되죠. 사랑은 다양한 형태로 나타나는데, 이는 친구에 대한 애정, 가족에 대한 애정, 동반자에 대한 열정적인 사랑, 그리고 자기 자신에 대한 사랑 등 다양한 형태가 있을 수 있어요.    \n",
      "\n",
      "사랑은 종종 다음과 같은 특성을 가진다고 말하죠: 무조건적인 수용, 다른 사람의 행복을 위해 행동하는 욕구, 다른 사람에 대한 깊은 이해와 존중, 그리고 그 사람을 위해 희생할 준비가 되어 있다는 점이에요. 사랑은 또한, 다른 사람을 생각하고 그 사람의 행복을 자신의 행복으로 여기는 능력도 포함하고 있어요.    \n",
      "\n",
      "그러나 사랑은 때때로 고통을 동반하기도 해요. 사랑하는 사람을 잃거나, 사랑받지 못하거나, 사랑하는 사람이 아플 때 느껴지는 슬픔이나 고통도 사랑의 일부라고 볼 수 있어요. 이러한 모든 감정이 함께 사랑이라는 복합적인 감정을 만들어내는 거죠.    \n",
      "\n",
      "사랑에 대한 정의는 사람마다, 문화마다, 상황마다 다르게 해석될 수 있어요. 어떤 사람에게는 사랑이 다른 사람을 생각하는 것일 수 있고, 다른 사람에게는 사랑이 강한 감정의 표현일 수 있죠. 결국, 사랑은 개인의 경험과 감정에 따라 다르게 느껴질 수 있는, 개인적이고 주관적인 감정이라고 볼 수 있어요.\n"
     ]
    }
   ],
   "source": [
    "from langchain_openai import ChatOpenAI\n",
    "\n",
    "xionic = ChatOpenAI(\n",
    "    model_name=\"xionic-1-72b-20240610\",\n",
    "    base_url=\"https://sionic.chat/v1/\",\n",
    "    api_key=\"934c4bbc-c384-4bea-af82-1450d7f8128d\",\n",
    ")\n",
    "\n",
    "# 스트리밍 출력을 위하여 invoke() 대신 stream()을 사용합니다.\n",
    "answer = xionic.invoke(\"사랑이 뭔가요?\")\n",
    "\n",
    "print(answer.content)"
   ]
  }
 ],
 "metadata": {
  "kernelspec": {
   "display_name": "watson",
   "language": "python",
   "name": "python3"
  },
  "language_info": {
   "codemirror_mode": {
    "name": "ipython",
    "version": 3
   },
   "file_extension": ".py",
   "mimetype": "text/x-python",
   "name": "python",
   "nbconvert_exporter": "python",
   "pygments_lexer": "ipython3",
   "version": "3.11.9"
  }
 },
 "nbformat": 4,
 "nbformat_minor": 2
}
